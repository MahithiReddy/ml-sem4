{
 "cells": [
  {
   "cell_type": "code",
   "execution_count": 8,
   "id": "c7aeac1a-3d28-4634-8f2d-eb3621025510",
   "metadata": {},
   "outputs": [
    {
     "name": "stdin",
     "output_type": "stream",
     "text": [
      "Enter any word of your choice:  aaaaaa\n"
     ]
    },
    {
     "name": "stdout",
     "output_type": "stream",
     "text": [
      "the total number of vowels are : 6\n",
      "the total number of consonant are : 0\n"
     ]
    }
   ],
   "source": [
    "letters = []\n",
    "def VowelOrConsonant(word):\n",
    "    vowel_count = 0\n",
    "    consonant_count = 0     \n",
    "    for i in word:\n",
    "        letters.append(i)\n",
    "        if(i=='a' or i =='e' or i == 'i' or i=='o' or i =='u'):\n",
    "            vowel_count = vowel_count + 1\n",
    "        else:\n",
    "            consonant_count = consonant_count + 1\n",
    "    print(f\"the total number of vowels are : {vowel_count}\")\n",
    "    print(f\"the total number of consonant are : {consonant_count}\")\n",
    "    #main function\n",
    "def main():\n",
    "    user_word = input(\"Enter any word of your choice: \")\n",
    "    VowelOrConsonant(user_word)\n",
    "if __name__ == \"__main__\":\n",
    "    main()"
   ]
  },
  {
   "cell_type": "code",
   "execution_count": 11,
   "id": "c55c4a9f-5e11-47f5-975d-850462176077",
   "metadata": {},
   "outputs": [
    {
     "name": "stdin",
     "output_type": "stream",
     "text": [
      "Enter the number of rows in matrix A:  2\n",
      "Enter the number of columns in matrix A:  3\n"
     ]
    },
    {
     "name": "stdout",
     "output_type": "stream",
     "text": [
      "Enter elements of matrix A row-wise:\n"
     ]
    },
    {
     "name": "stdin",
     "output_type": "stream",
     "text": [
      " 1 2 3\n",
      " 4 5 6\n",
      "Enter the number of rows in matrix B:  3\n",
      "Enter the number of columns in matrix B:  2\n"
     ]
    },
    {
     "name": "stdout",
     "output_type": "stream",
     "text": [
      "Enter elements of matrix B row-wise:\n"
     ]
    },
    {
     "name": "stdin",
     "output_type": "stream",
     "text": [
      " 10 11\n",
      " 20 21\n",
      " 30 31\n"
     ]
    },
    {
     "name": "stdout",
     "output_type": "stream",
     "text": [
      "Product of matrices A and B:\n",
      "[140, 146]\n",
      "[320, 335]\n"
     ]
    }
   ],
   "source": [
    "def multiply_matrices(matrix_A, matrix_B):\n",
    "    # entering the dimensions of the matrix\n",
    "    rows_A = len(matrix_A)       # Number of rows in matrix A\n",
    "    columns_A = len(matrix_A[0]) # Number of columns in matrix A\n",
    "    rows_B = len(matrix_B)       # Number of rows in matrix B\n",
    "    columns_B = len(matrix_B[0]) # Number of columns in matrix B\n",
    "\n",
    "    # Checking if matrices A and B are multipliable\n",
    "    if columns_A != rows_B:\n",
    "        return \"Oops!! Matrices are not multipliable.\"\n",
    "\n",
    "    # Initialize the product matrix with zeros\n",
    "    product_matrix = [[0 for _ in range(columns_B)] for _ in range(rows_A)]\n",
    "\n",
    "    # matrix multiplication\n",
    "    for i in range(rows_A):\n",
    "        for j in range(columns_B):\n",
    "            for k in range(columns_A):\n",
    "                # Checking the dot product of the matrices\n",
    "                product_matrix[i][j] += matrix_A[i][k] * matrix_B[k][j]\n",
    "\n",
    "    return product_matrix\n",
    "#main function\n",
    "def main():\n",
    "    # user input of the dimenions\n",
    "    rows_A = int(input(\"Enter the number of rows in matrix A: \"))\n",
    "    columns_A = int(input(\"Enter the number of columns in matrix A: \"))\n",
    "\n",
    "    matrix_A = []\n",
    "    print(\"Enter elements of matrix A row-wise:\")\n",
    "    for _ in range(rows_A):\n",
    "        row = [int(x) for x in input().split()]\n",
    "        matrix_A.append(row)\n",
    "    rows_B = int(input(\"Enter the number of rows in matrix B: \"))\n",
    "    columns_B = int(input(\"Enter the number of columns in matrix B: \"))\n",
    "\n",
    "    matrix_B = []\n",
    "    print(\"Enter elements of matrix B row-wise:\")\n",
    "    for _ in range(rows_B):\n",
    "        row = [int(x) for x in input().split()]\n",
    "        matrix_B.append(row)\n",
    "\n",
    "    # Multiplying the matrices\n",
    "    product = multiply_matrices(matrix_A, matrix_B)\n",
    "\n",
    "    # Printing the result\n",
    "    if isinstance(product, str):\n",
    "        print(product)\n",
    "    else:\n",
    "        print(\"Product of matrices A and B:\")\n",
    "        for row in product:\n",
    "            print(row)\n",
    "\n",
    "if __name__ == \"__main__\":\n",
    "    main()"
   ]
  },
  {
   "cell_type": "code",
   "execution_count": 17,
   "id": "cb03977c-19ad-4be9-be30-1c19f352ce94",
   "metadata": {},
   "outputs": [
    {
     "name": "stdin",
     "output_type": "stream",
     "text": [
      "ENTER THE ELEMENTS IN FIRST LIST:  8 9 10 12 14\n",
      "ENTER THE ELEMENTS IN SECOND LIST:  8 7 6 5 8 \n"
     ]
    },
    {
     "name": "stdout",
     "output_type": "stream",
     "text": [
      "COMMON ELEMENTS:  {8}\n"
     ]
    }
   ],
   "source": [
    "def common_elements(a, b):\n",
    "\n",
    "    # Convert lists to sets to find common elements efficiently\n",
    "    a_set = set(a)\n",
    "    b_set = set(b)\n",
    "\n",
    "    # Checking if there are common elements in both the sets\n",
    "    if (a_set & b_set):\n",
    "        print(\"COMMON ELEMENTS: \", a_set & b_set)  # Printing the common elements if found\n",
    "    else:\n",
    "        print(\"NO COMMON ELEMENTS FOUND\")  # Printing message if no common elements are found\n",
    "#main function\n",
    "def main():\n",
    "    #entering the elements of first list\n",
    "    a = [int(x) for x in input(\"ENTER THE ELEMENTS IN FIRST LIST: \").split()]\n",
    "\n",
    "    #entering the elements of second list\n",
    "    b = [int(x) for x in input(\"ENTER THE ELEMENTS IN SECOND LIST: \").split()]\n",
    "\n",
    "    # Printing the common elements \n",
    "    common_elements(a, b)\n",
    "\n",
    "if __name__ == \"__main__\":\n",
    "    main()"
   ]
  },
  {
   "cell_type": "code",
   "execution_count": 20,
   "id": "5f508559-3f60-45ed-ad7b-066c8fc0d816",
   "metadata": {},
   "outputs": [
    {
     "name": "stdin",
     "output_type": "stream",
     "text": [
      "ENTER NUMBER OF ROWS IN A MATRIX:  3\n",
      "ENTER NUMBER OF COLUMNS IN A MATRIX:  3\n"
     ]
    },
    {
     "name": "stdout",
     "output_type": "stream",
     "text": [
      "ENTER ELEMENTS IN A MATRIX ROW WISE : \n"
     ]
    },
    {
     "name": "stdin",
     "output_type": "stream",
     "text": [
      " 1 2 3\n",
      " 4 5 6\n",
      " 7 8 9\n"
     ]
    },
    {
     "name": "stdout",
     "output_type": "stream",
     "text": [
      "ORIGINAL MATRIX :\n",
      "[1, 2, 3]\n",
      "[4, 5, 6]\n",
      "[7, 8, 9]\n",
      "TRANSPOSE OF MATRIX: \n",
      "[1, 4, 7]\n",
      "[2, 5, 8]\n",
      "[3, 6, 9]\n"
     ]
    }
   ],
   "source": [
    "def transpose_matrix(matrix):\n",
    "    \n",
    "    # Gets the number of rows and columns in the matrix\n",
    "    num_rows = len(matrix)\n",
    "    num_columns = len(matrix[0])\n",
    "\n",
    "    # Initializing a matrix to store the transposed matrix\n",
    "    transposed_matrix = [[0 for _ in range(num_rows)] for _ in range(num_columns)]\n",
    "\n",
    "    # Iterating through each element and transposing it\n",
    "    for i in range(num_rows):\n",
    "        for j in range(num_columns):\n",
    "            transposed_matrix[j][i] = matrix[i][j]\n",
    "\n",
    "    return transposed_matrix\n",
    "\n",
    "def main():\n",
    "    # user input of dimensions and elements of the matrix\n",
    "    rows = int(input(\"ENTER NUMBER OF ROWS IN A MATRIX: \"))\n",
    "    columns = int(input(\"ENTER NUMBER OF COLUMNS IN A MATRIX: \"))\n",
    "    print(\"ENTER ELEMENTS IN A MATRIX ROW WISE : \")\n",
    "    matrix = []\n",
    "    for i in range(rows):\n",
    "        row = [int(x) for x in input().split()]\n",
    "        matrix.append(row)\n",
    "    transposed_matrix = transpose_matrix(matrix)\n",
    "\n",
    "    # Printing the original matrix\n",
    "    print(\"ORIGINAL MATRIX :\")\n",
    "    for row in matrix:\n",
    "        print(row)\n",
    "\n",
    "    # Printing the transpose matrix\n",
    "    print(\"TRANSPOSE OF MATRIX: \")\n",
    "    for row in transposed_matrix:\n",
    "        print(row)\n",
    "\n",
    "if __name__ == \"__main__\":\n",
    "    main()"
   ]
  },
  {
   "cell_type": "code",
   "execution_count": null,
   "id": "747a0412-cd6e-4ee4-b7f5-b90c22e571e2",
   "metadata": {},
   "outputs": [],
   "source": []
  }
 ],
 "metadata": {
  "kernelspec": {
   "display_name": "Python 3 (ipykernel)",
   "language": "python",
   "name": "python3"
  },
  "language_info": {
   "codemirror_mode": {
    "name": "ipython",
    "version": 3
   },
   "file_extension": ".py",
   "mimetype": "text/x-python",
   "name": "python",
   "nbconvert_exporter": "python",
   "pygments_lexer": "ipython3",
   "version": "3.11.4"
  }
 },
 "nbformat": 4,
 "nbformat_minor": 5
}
